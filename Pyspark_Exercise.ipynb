{
  "nbformat": 4,
  "nbformat_minor": 0,
  "metadata": {
    "colab": {
      "name": "Copy of Pyspark Exercise.ipynb",
      "provenance": [],
      "machine_shape": "hm"
    },
    "kernelspec": {
      "name": "python3",
      "display_name": "Python 3"
    },
    "accelerator": "GPU"
  },
  "cells": [
    {
      "cell_type": "code",
      "metadata": {
        "id": "iC8i2oiZZQmD",
        "colab_type": "code",
        "colab": {}
      },
      "source": [
        "import pandas as pd\n",
        "import numpy as np"
      ],
      "execution_count": null,
      "outputs": []
    },
    {
      "cell_type": "code",
      "metadata": {
        "id": "W5W19Ec5Xqj8",
        "colab_type": "code",
        "colab": {
          "base_uri": "https://localhost:8080/",
          "height": 266
        },
        "outputId": "2b7fb1f7-9b0f-4e98-ec0b-b5b9fd03b686"
      },
      "source": [
        "pip install pyspark"
      ],
      "execution_count": null,
      "outputs": [
        {
          "output_type": "stream",
          "text": [
            "Collecting pyspark\n",
            "\u001b[?25l  Downloading https://files.pythonhosted.org/packages/8e/b0/bf9020b56492281b9c9d8aae8f44ff51e1bc91b3ef5a884385cb4e389a40/pyspark-3.0.0.tar.gz (204.7MB)\n",
            "\u001b[K     |████████████████████████████████| 204.7MB 56kB/s \n",
            "\u001b[?25hCollecting py4j==0.10.9\n",
            "\u001b[?25l  Downloading https://files.pythonhosted.org/packages/9e/b6/6a4fb90cd235dc8e265a6a2067f2a2c99f0d91787f06aca4bcf7c23f3f80/py4j-0.10.9-py2.py3-none-any.whl (198kB)\n",
            "\u001b[K     |████████████████████████████████| 204kB 44.5MB/s \n",
            "\u001b[?25hBuilding wheels for collected packages: pyspark\n",
            "  Building wheel for pyspark (setup.py) ... \u001b[?25l\u001b[?25hdone\n",
            "  Created wheel for pyspark: filename=pyspark-3.0.0-py2.py3-none-any.whl size=205044182 sha256=791b0de2f982edd9c0a3ded1830d20e68dc664316e36fda58c0881cf4b65f009\n",
            "  Stored in directory: /root/.cache/pip/wheels/57/27/4d/ddacf7143f8d5b76c45c61ee2e43d9f8492fc5a8e78ebd7d37\n",
            "Successfully built pyspark\n",
            "Installing collected packages: py4j, pyspark\n",
            "Successfully installed py4j-0.10.9 pyspark-3.0.0\n"
          ],
          "name": "stdout"
        }
      ]
    },
    {
      "cell_type": "code",
      "metadata": {
        "id": "LpIlH111W-9k",
        "colab_type": "code",
        "colab": {}
      },
      "source": [
        "from pyspark.sql import SparkSession\n",
        "from pyspark.sql import Row\n",
        "from pyspark.sql import functions\n",
        "from pyspark import SparkContext, SparkConf"
      ],
      "execution_count": null,
      "outputs": []
    },
    {
      "cell_type": "code",
      "metadata": {
        "id": "LRc6V8AyLVUU",
        "colab_type": "code",
        "colab": {
          "base_uri": "https://localhost:8080/",
          "height": 424
        },
        "outputId": "a4079c6b-7d67-4beb-e031-2b31ef8a7184"
      },
      "source": [
        "!wget http://media.sundog-soft.com/hadoop/ml-100k/u.item\n",
        "!wget http://media.sundog-soft.com/hadoop/ml-100k/u.data"
      ],
      "execution_count": null,
      "outputs": [
        {
          "output_type": "stream",
          "text": [
            "--2020-08-09 21:43:17--  http://media.sundog-soft.com/hadoop/ml-100k/u.item\n",
            "Resolving media.sundog-soft.com (media.sundog-soft.com)... 52.216.166.99\n",
            "Connecting to media.sundog-soft.com (media.sundog-soft.com)|52.216.166.99|:80... connected.\n",
            "HTTP request sent, awaiting response... 200 OK\n",
            "Length: 236344 (231K) [application/octet-stream]\n",
            "Saving to: ‘u.item’\n",
            "\n",
            "\ru.item                0%[                    ]       0  --.-KB/s               \ru.item              100%[===================>] 230.80K  --.-KB/s    in 0.05s   \n",
            "\n",
            "2020-08-09 21:43:17 (4.57 MB/s) - ‘u.item’ saved [236344/236344]\n",
            "\n",
            "--2020-08-09 21:43:18--  http://media.sundog-soft.com/hadoop/ml-100k/u.data\n",
            "Resolving media.sundog-soft.com (media.sundog-soft.com)... 52.216.166.99\n",
            "Connecting to media.sundog-soft.com (media.sundog-soft.com)|52.216.166.99|:80... connected.\n",
            "HTTP request sent, awaiting response... 200 OK\n",
            "Length: 2079229 (2.0M) [application/octet-stream]\n",
            "Saving to: ‘u.data’\n",
            "\n",
            "u.data              100%[===================>]   1.98M  --.-KB/s    in 0.09s   \n",
            "\n",
            "2020-08-09 21:43:18 (21.8 MB/s) - ‘u.data’ saved [2079229/2079229]\n",
            "\n"
          ],
          "name": "stdout"
        }
      ]
    },
    {
      "cell_type": "code",
      "metadata": {
        "id": "IUvgci7PL_jf",
        "colab_type": "code",
        "colab": {}
      },
      "source": [
        "movie_names={}\n",
        "hand=open(\"u.item\",encoding = \"ISO-8859-1\")\n",
        "for i in hand:\n",
        "  line=i.split('|')\n",
        "  movie_names[int(line[0])]=line[1]"
      ],
      "execution_count": null,
      "outputs": []
    },
    {
      "cell_type": "code",
      "metadata": {
        "id": "uHUBAQhQOmya",
        "colab_type": "code",
        "colab": {}
      },
      "source": [
        "## create a spark session\n",
        "spark = SparkSession.builder.appName('AvgMovieRateing').getOrCreate()"
      ],
      "execution_count": null,
      "outputs": []
    },
    {
      "cell_type": "code",
      "metadata": {
        "id": "wnWPjulJSx2p",
        "colab_type": "code",
        "colab": {}
      },
      "source": [
        "## read in data as RDD\n",
        "line = spark.sparkContext.textFile('u.data')"
      ],
      "execution_count": null,
      "outputs": []
    },
    {
      "cell_type": "code",
      "metadata": {
        "id": "4tikBXh2dcwf",
        "colab_type": "code",
        "colab": {
          "base_uri": "https://localhost:8080/",
          "height": 55
        },
        "outputId": "af432d54-6a15-495f-9b68-1b204d42899b"
      },
      "source": [
        "type(line)"
      ],
      "execution_count": null,
      "outputs": [
        {
          "output_type": "execute_result",
          "data": {
            "text/plain": [
              "pyspark.rdd.RDD"
            ]
          },
          "metadata": {
            "tags": []
          },
          "execution_count": 58
        }
      ]
    },
    {
      "cell_type": "code",
      "metadata": {
        "id": "ziNeNPtXU6D0",
        "colab_type": "code",
        "colab": {}
      },
      "source": [
        "## create data extracting function for next rdd.map()\n",
        "def lineparse(line):\n",
        "  content=line.split()\n",
        "  return Row(movieID=int(content[1]),rating=float(content[2]))"
      ],
      "execution_count": null,
      "outputs": []
    },
    {
      "cell_type": "code",
      "metadata": {
        "id": "679RebW1dRE_",
        "colab_type": "code",
        "colab": {}
      },
      "source": [
        "## parse from raw data\n",
        "ratings=line.map(lineparse)"
      ],
      "execution_count": null,
      "outputs": []
    },
    {
      "cell_type": "code",
      "metadata": {
        "id": "Gb3SCCYQdvAe",
        "colab_type": "code",
        "colab": {}
      },
      "source": [
        "## convert to Dataframe\n",
        "movie_ratings=spark.createDataFrame(ratings)"
      ],
      "execution_count": null,
      "outputs": []
    },
    {
      "cell_type": "code",
      "metadata": {
        "id": "eP33BzOkd8eC",
        "colab_type": "code",
        "colab": {}
      },
      "source": [
        "##  calculate average rating\n",
        "avg_ratings=movie_ratings.groupBy('movieID').avg('rating')"
      ],
      "execution_count": null,
      "outputs": []
    },
    {
      "cell_type": "code",
      "metadata": {
        "id": "wCQnCbvrgxZs",
        "colab_type": "code",
        "colab": {}
      },
      "source": [
        "## calculate how many rate each movie has\n",
        "cnt_ratings=movie_ratings.groupBy('movieID').count()"
      ],
      "execution_count": null,
      "outputs": []
    },
    {
      "cell_type": "code",
      "metadata": {
        "id": "vGcb1qU7hAaA",
        "colab_type": "code",
        "colab": {}
      },
      "source": [
        "## join two calculation resulats together\n",
        "avg_cnt=avg_ratings.join(cnt_ratings,on='movieID')"
      ],
      "execution_count": null,
      "outputs": []
    },
    {
      "cell_type": "code",
      "metadata": {
        "id": "2eDk2p5ShizB",
        "colab_type": "code",
        "colab": {}
      },
      "source": [
        "## filter out movie which have less than 10 people rated \n",
        "avg_cnt_sub=avg_cnt.filter('count>10')"
      ],
      "execution_count": null,
      "outputs": []
    },
    {
      "cell_type": "code",
      "metadata": {
        "id": "WFLg8t0RiE4P",
        "colab_type": "code",
        "colab": {}
      },
      "source": [
        "#avg_cnt_sub.where('count<12').collect()"
      ],
      "execution_count": null,
      "outputs": []
    },
    {
      "cell_type": "code",
      "metadata": {
        "id": "9oPv_5GPkxxO",
        "colab_type": "code",
        "colab": {
          "base_uri": "https://localhost:8080/",
          "height": 55
        },
        "outputId": "b5adbf4a-d5b6-4729-8846-db394b6c5789"
      },
      "source": [
        "avg_cnt_sub.first()"
      ],
      "execution_count": null,
      "outputs": [
        {
          "output_type": "execute_result",
          "data": {
            "text/plain": [
              "Row(movieID=26, avg(rating)=3.452054794520548, count=73)"
            ]
          },
          "metadata": {
            "tags": []
          },
          "execution_count": 77
        }
      ]
    },
    {
      "cell_type": "code",
      "metadata": {
        "id": "rDmivOYVidyA",
        "colab_type": "code",
        "colab": {}
      },
      "source": [
        "top_10_rating=avg_cnt_sub.orderBy('avg(rating)').take(10)"
      ],
      "execution_count": null,
      "outputs": []
    },
    {
      "cell_type": "code",
      "metadata": {
        "id": "17wMs9S7jmJK",
        "colab_type": "code",
        "colab": {
          "base_uri": "https://localhost:8080/",
          "height": 55
        },
        "outputId": "e0e35b2f-1579-431a-a87b-23dbbf410879"
      },
      "source": [
        "type(top_10_rating)"
      ],
      "execution_count": null,
      "outputs": [
        {
          "output_type": "execute_result",
          "data": {
            "text/plain": [
              "list"
            ]
          },
          "metadata": {
            "tags": []
          },
          "execution_count": 76
        }
      ]
    },
    {
      "cell_type": "code",
      "metadata": {
        "id": "sXvYeGEKk5uX",
        "colab_type": "code",
        "colab": {
          "base_uri": "https://localhost:8080/",
          "height": 55
        },
        "outputId": "e4db60b6-c215-4ba5-fb52-16346d127b6c"
      },
      "source": [
        "top_10_rating[0]"
      ],
      "execution_count": null,
      "outputs": [
        {
          "output_type": "execute_result",
          "data": {
            "text/plain": [
              "Row(movieID=424, avg(rating)=1.3157894736842106, count=19)"
            ]
          },
          "metadata": {
            "tags": []
          },
          "execution_count": 82
        }
      ]
    },
    {
      "cell_type": "code",
      "metadata": {
        "id": "qDMXvNV-lP6D",
        "colab_type": "code",
        "colab": {
          "base_uri": "https://localhost:8080/",
          "height": 213
        },
        "outputId": "3bf51fb2-85c4-4b11-d5b5-f0606923c1bc"
      },
      "source": [
        "## print top 10 movies' ID, name, average rating and rating count\n",
        "for i in top_10_rating:\n",
        "  print(i[0],movie_names[i[0]],i[1],i[2])"
      ],
      "execution_count": null,
      "outputs": [
        {
          "output_type": "stream",
          "text": [
            "424 Children of the Corn: The Gathering (1996) 1.3157894736842106 19\n",
            "669 Body Parts (1991) 1.6153846153846154 13\n",
            "440 Amityville II: The Possession (1982) 1.6428571428571428 14\n",
            "758 Lawnmower Man 2: Beyond Cyberspace (1996) 1.7142857142857142 21\n",
            "1274 Robocop 3 (1993) 1.7272727272727273 11\n",
            "457 Free Willy 3: The Rescue (1997) 1.7407407407407407 27\n",
            "1254 Gone Fishin' (1997) 1.8181818181818181 11\n",
            "976 Solo (1996) 1.8333333333333333 12\n",
            "545 Vampire in Brooklyn (1995) 1.8333333333333333 12\n",
            "1230 Ready to Wear (Pret-A-Porter) (1994) 1.8333333333333333 18\n"
          ],
          "name": "stdout"
        }
      ]
    }
  ]
}